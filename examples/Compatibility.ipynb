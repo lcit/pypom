{
 "cells": [
  {
   "cell_type": "code",
   "execution_count": 3,
   "metadata": {},
   "outputs": [
    {
     "name": "stdout",
     "output_type": "stream",
     "text": [
      "The autoreload extension is already loaded. To reload it, use:\n",
      "  %reload_ext autoreload\n"
     ]
    }
   ],
   "source": [
    "%matplotlib notebook\n",
    "%load_ext autoreload\n",
    "%autoreload 2\n",
    "import matplotlib.pyplot as plt\n",
    "import numpy as np\n",
    "import sys\n",
    "import imageio\n",
    "\n",
    "import pypom"
   ]
  },
  {
   "cell_type": "code",
   "execution_count": 6,
   "metadata": {},
   "outputs": [
    {
     "data": {
      "text/plain": [
       "([<pypom.pom.Rectangle at 0x7ff1d8250668>,\n",
       "  <pypom.pom.Rectangle at 0x7ff1d82506a0>,\n",
       "  <pypom.pom.Rectangle at 0x7ff1d82506d8>],\n",
       " (180, 320),\n",
       " 4,\n",
       " 15318,\n",
       " 0.0001,\n",
       " 0.005,\n",
       " 100)"
      ]
     },
     "execution_count": 6,
     "metadata": {},
     "output_type": "execute_result"
    }
   ],
   "source": [
    "rectangles, view_shape, n_cams, n_positions, prior, sigma, max_iter = pypom.compatibility.read_pom_file(\"rectangles.pom\")\n",
    "\n",
    "rectangles[0][:3], view_shape, n_cams, n_positions, prior, sigma, max_iter"
   ]
  },
  {
   "cell_type": "code",
   "execution_count": 8,
   "metadata": {},
   "outputs": [],
   "source": [
    "pomfile = pypom.compatibility.POM(img_width=view_shape[1], \n",
    "                                  img_height=view_shape[0], \n",
    "                                  rectangles=rectangles, \n",
    "                                  input_view_format=\"./images/cam_%c/img_%f.png\", \n",
    "                                  result_view_format=\"./results/result-f%f-c%c.png\",\n",
    "                                  result_format=\"./results/proba-f%f.dat\", \n",
    "                                  convergence_view_format=\"./results/convergence/f%f-c%c-i%i.png\", \n",
    "                                  prior=0.01, sigma_image_density=0.01, max_nb_solver_iterations=100, \n",
    "                                  proba_ignored=1.0, idx_start=0, process=10, p_rect_visible=0.2)\n",
    "pomfile.write_to_file(\"rectangles_comp.pom\")"
   ]
  }
 ],
 "metadata": {
  "anaconda-cloud": {},
  "kernelspec": {
   "display_name": "Python [default]",
   "language": "python",
   "name": "python3"
  },
  "language_info": {
   "codemirror_mode": {
    "name": "ipython",
    "version": 3
   },
   "file_extension": ".py",
   "mimetype": "text/x-python",
   "name": "python",
   "nbconvert_exporter": "python",
   "pygments_lexer": "ipython3",
   "version": "3.5.6"
  },
  "toc": {
   "base_numbering": 1,
   "nav_menu": {},
   "number_sections": true,
   "sideBar": true,
   "skip_h1_title": false,
   "title_cell": "Table of Contents",
   "title_sidebar": "Contents",
   "toc_cell": false,
   "toc_position": {},
   "toc_section_display": true,
   "toc_window_display": false
  }
 },
 "nbformat": 4,
 "nbformat_minor": 2
}
