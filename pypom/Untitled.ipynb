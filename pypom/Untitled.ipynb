{
 "cells": [
  {
   "cell_type": "code",
   "execution_count": 1,
   "metadata": {
    "collapsed": true
   },
   "outputs": [],
   "source": [
    "import multiprocessing"
   ]
  },
  {
   "cell_type": "code",
   "execution_count": 7,
   "metadata": {
    "collapsed": true
   },
   "outputs": [],
   "source": [
    "l = []\n",
    "a = [10]\n",
    "\n",
    "def f(x):\n",
    "    return a[0]"
   ]
  },
  {
   "cell_type": "code",
   "execution_count": 8,
   "metadata": {},
   "outputs": [
    {
     "data": {
      "text/plain": [
       "[10, 10, 10]"
      ]
     },
     "execution_count": 8,
     "metadata": {},
     "output_type": "execute_result"
    }
   ],
   "source": [
    "pool = multiprocessing.Pool(4)\n",
    "pool.map(f, [1,2,3])"
   ]
  },
  {
   "cell_type": "code",
   "execution_count": 17,
   "metadata": {},
   "outputs": [
    {
     "name": "stdout",
     "output_type": "stream",
     "text": [
      "(3, 16, 3)\n",
      "(3, 16, 2)\n"
     ]
    },
    {
     "ename": "error",
     "evalue": "/home/leo/opencv-3.2.0/modules/calib3d/src/calibration.cpp:1467: error: (-5) For non-planar calibration rigs the initial intrinsic matrix must be specified in function cvCalibrateCamera2Internal\n",
     "output_type": "error",
     "traceback": [
      "\u001b[0;31m---------------------------------------------------------------------------\u001b[0m",
      "\u001b[0;31merror\u001b[0m                                     Traceback (most recent call last)",
      "\u001b[0;32m<ipython-input-17-e8b90fa6a886>\u001b[0m in \u001b[0;36m<module>\u001b[0;34m()\u001b[0m\n\u001b[1;32m     23\u001b[0m \u001b[0;34m\u001b[0m\u001b[0m\n\u001b[1;32m     24\u001b[0m \u001b[0mdist_coefs\u001b[0m \u001b[0;34m=\u001b[0m \u001b[0mnp\u001b[0m\u001b[0;34m.\u001b[0m\u001b[0mzeros\u001b[0m\u001b[0;34m(\u001b[0m\u001b[0;36m4\u001b[0m\u001b[0;34m)\u001b[0m\u001b[0;34m\u001b[0m\u001b[0m\n\u001b[0;32m---> 25\u001b[0;31m \u001b[0mresults\u001b[0m \u001b[0;34m=\u001b[0m \u001b[0mcv2\u001b[0m\u001b[0;34m.\u001b[0m\u001b[0mcalibrateCamera\u001b[0m\u001b[0;34m(\u001b[0m\u001b[0mobj_points\u001b[0m\u001b[0;34m,\u001b[0m \u001b[0mimg_points\u001b[0m \u001b[0;34m,\u001b[0m\u001b[0msize\u001b[0m\u001b[0;34m,\u001b[0m \u001b[0mcamera_matrix\u001b[0m\u001b[0;34m,\u001b[0m \u001b[0mdist_coefs\u001b[0m\u001b[0;34m)\u001b[0m\u001b[0;34m\u001b[0m\u001b[0m\n\u001b[0m",
      "\u001b[0;31merror\u001b[0m: /home/leo/opencv-3.2.0/modules/calib3d/src/calibration.cpp:1467: error: (-5) For non-planar calibration rigs the initial intrinsic matrix must be specified in function cvCalibrateCamera2Internal\n"
     ]
    }
   ],
   "source": [
    "import cv2\n",
    "import numpy as np\n",
    "\n",
    "obj_points = [[-9.7,3.0,4.5],[-11.1,0.5,3.1],[-8.5,0.9,2.4],[-5.8,4.4,2.7],[-4.8,1.5,0.2],[-6.7,-1.6,-0.4],[-8.7,-3.3,-0.6],[-4.3,-1.2,-2.4],[-12.4,-2.3,0.9],    [-14.1,-3.8,-0.6],[-18.9,2.9,2.9],[-14.6,2.3,4.6],[-16.0,0.8,3.0],[-18.9,-0.1,0.3],    [-16.3,-1.7,0.5],[-18.6,-2.7,-2.2]]\n",
    "img_points = [[993.1,623.1],[942.0,705.0],[1023.0,720.0],[1116.0,645.0],[1136.0,764.0],[1071.0,847.0],[1003.0,885.0],[1142.0,887.0],[886.0,816.0],[827.0,883.0],[710.0,636.0],[837.0,621.0],[789.0,688.0],[699.0,759.0],[768.0,800.0],[697.0,873.0]]\n",
    "\n",
    "obj_points = [np.float32(obj_points) for _ in range(3)]\n",
    "img_points = [np.float32(img_points) for _ in range(3)]\n",
    "\n",
    "print(np.array(obj_points).shape)\n",
    "print(np.array(img_points).shape)\n",
    "\n",
    "w = 1680\n",
    "h = 1050\n",
    "size = (w,h)\n",
    "\n",
    "camera_matrix = np.zeros((3, 3))\n",
    "camera_matrix[0,0]= 2200.0\n",
    "camera_matrix[1,1]= 2200.0\n",
    "camera_matrix[2,2]=1.0\n",
    "camera_matrix[2,0]=750.0\n",
    "camera_matrix[2,1]=750.0 \n",
    "\n",
    "dist_coefs = np.zeros(4)\n",
    "results = cv2.calibrateCamera(obj_points, img_points ,size, camera_matrix, dist_coefs)"
   ]
  },
  {
   "cell_type": "code",
   "execution_count": 18,
   "metadata": {},
   "outputs": [
    {
     "name": "stdout",
     "output_type": "stream",
     "text": [
      "Help on built-in function undistortPoints:\n",
      "\n",
      "undistortPoints(...)\n",
      "    undistortPoints(src, cameraMatrix, distCoeffs[, dst[, R[, P]]]) -> dst\n",
      "\n"
     ]
    }
   ],
   "source": [
    "help(cv2.undistortPoints)"
   ]
  },
  {
   "cell_type": "code",
   "execution_count": 10,
   "metadata": {},
   "outputs": [
    {
     "data": {
      "text/plain": [
       "3"
      ]
     },
     "execution_count": 10,
     "metadata": {},
     "output_type": "execute_result"
    }
   ],
   "source": [
    "import re\n",
    "def search_in_dict(dict, exact=None, groups=None):    \n",
    "    if exact is not None:\n",
    "        for key, value in dict.items():\n",
    "            if key==exact:\n",
    "                return value\n",
    "\n",
    "    if groups is not None:\n",
    "        for group in groups:\n",
    "            re_expression = ''.join([\"{}|\".format(x) for x in group])\n",
    "            re_expression = re_expression[:-1] # we remove the last or \"|\"\n",
    "            print(re_expression)\n",
    "            for key, value in dict.items():\n",
    "                if len(set(re.findall(re_expression, key, flags=re.I)))==len(group):\n",
    "                    return value\n",
    "    return None        \n",
    "\n",
    "d = {\"a_image_points\":[1], \"a_b_c\":2, \"A\":3}\n",
    "\n",
    "search_in_dict(d, \"A\", [(\"A\",\"IM\")])\n"
   ]
  },
  {
   "cell_type": "code",
   "execution_count": 53,
   "metadata": {},
   "outputs": [
    {
     "data": {
      "text/plain": [
       "2"
      ]
     },
     "execution_count": 53,
     "metadata": {},
     "output_type": "execute_result"
    }
   ],
   "source": [
    "len(set(re.findall(\"a|im\", \"a_image_points\", flags=re.I)))"
   ]
  },
  {
   "cell_type": "code",
   "execution_count": 49,
   "metadata": {},
   "outputs": [
    {
     "data": {
      "text/plain": [
       "False"
      ]
     },
     "execution_count": 49,
     "metadata": {},
     "output_type": "execute_result"
    }
   ],
   "source": [
    "np.all([True,False])"
   ]
  },
  {
   "cell_type": "code",
   "execution_count": 32,
   "metadata": {
    "collapsed": true
   },
   "outputs": [],
   "source": [
    "for key, value in d.items():\n",
    "    re.search(\"(\\w+)image(\\w+)point(\\w+)\", key, flags=re.I)\n"
   ]
  },
  {
   "cell_type": "code",
   "execution_count": 33,
   "metadata": {},
   "outputs": [
    {
     "data": {
      "text/plain": [
       "'a_b_c'"
      ]
     },
     "execution_count": 33,
     "metadata": {},
     "output_type": "execute_result"
    }
   ],
   "source": [
    "key"
   ]
  },
  {
   "cell_type": "code",
   "execution_count": 35,
   "metadata": {
    "collapsed": true
   },
   "outputs": [],
   "source": [
    "re.search(r\"(\\w+)image(\\w+)point(\\w+)\", \"image_points\", flags=re.I)"
   ]
  }
 ],
 "metadata": {
  "kernelspec": {
   "display_name": "Python 3",
   "language": "python",
   "name": "python3"
  },
  "language_info": {
   "codemirror_mode": {
    "name": "ipython",
    "version": 3
   },
   "file_extension": ".py",
   "mimetype": "text/x-python",
   "name": "python",
   "nbconvert_exporter": "python",
   "pygments_lexer": "ipython3",
   "version": "3.5.4"
  }
 },
 "nbformat": 4,
 "nbformat_minor": 2
}
